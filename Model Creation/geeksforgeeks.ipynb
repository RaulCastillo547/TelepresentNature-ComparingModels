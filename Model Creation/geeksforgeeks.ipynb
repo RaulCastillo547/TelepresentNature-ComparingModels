{
 "cells": [
  {
   "cell_type": "code",
   "execution_count": 1,
   "metadata": {},
   "outputs": [],
   "source": [
    "import os\n",
    "import datetime\n",
    "\n",
    "import IPython\n",
    "import IPython.display\n",
    "import matplotlib as mpl\n",
    "import matplotlib.pyplot as plt\n",
    "import numpy as np\n",
    "import pandas as pd\n",
    "import tensorflow as tf\n",
    "\n",
    "os.chdir(r'C:\\Users\\Imper\\OneDrive\\Documents\\Raul Castillo\\College\\Year - 2\\SMART Program\\ComparingModels\\HelperFunctions')\n",
    "import auxiliaries as aux\n",
    "os.chdir(r'C:\\Users\\Imper\\OneDrive\\Documents\\Raul Castillo\\College\\Year - 2\\SMART Program\\ComparingModels')"
   ]
  },
  {
   "cell_type": "code",
   "execution_count": 5,
   "metadata": {},
   "outputs": [],
   "source": [
    "np.random.seed(0)\n",
    "data = pd.read_csv('CleanCSV\\\\Moose\\\\yl1_interpolated.csv')\n",
    "data['timestamp'] = pd.to_datetime(data['timestamp'])\n",
    "data.sort_values(by='timestamp', inplace=True)\n",
    "data.set_index('timestamp', inplace=True)\n",
    "data.dropna(inplace=True)"
   ]
  },
  {
   "cell_type": "code",
   "execution_count": null,
   "metadata": {},
   "outputs": [],
   "source": [
    "plt.figure(figsize=(12, 6))\n",
    "plt.plot(data['altitude'], label='Data')\n",
    "plt.xlabel('Date')"
   ]
  }
 ],
 "metadata": {
  "kernelspec": {
   "display_name": "Python 3",
   "language": "python",
   "name": "python3"
  },
  "language_info": {
   "codemirror_mode": {
    "name": "ipython",
    "version": 3
   },
   "file_extension": ".py",
   "mimetype": "text/x-python",
   "name": "python",
   "nbconvert_exporter": "python",
   "pygments_lexer": "ipython3",
   "version": "3.12.0"
  }
 },
 "nbformat": 4,
 "nbformat_minor": 2
}
